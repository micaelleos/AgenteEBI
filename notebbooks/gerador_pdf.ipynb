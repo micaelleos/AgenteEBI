{
 "cells": [
  {
   "cell_type": "code",
   "execution_count": 22,
   "metadata": {},
   "outputs": [],
   "source": [
    "ebi = {'title': 'Práticas Religiosas e Oração bbbbbbbbbbbbbbbbbbbbbbbbbbbbbbbbbb', \n",
    "        'plaintext_base': '1. \"Tenham o cuidado de não praticar suas \\'obras de justiça\\' diante dos outros para serem vistos por eles. Se fizerem isso, vocês não terão nenhuma recompensa do Pai celestial. 2. \"Portanto, quando você der esmola, não anuncie isso com trombetas, como fazem os hipócritas nas sinagogas e nas ruas, a fim de serem honrados pelos outros. Eu garanto que eles já receberam sua plena recompensa. 3. Mas quando você der esmola, que a sua mão esquerda não saiba o que está fazendo a direita, 4. de forma que você preste a sua ajuda em segredo. E seu Pai, que vê o que é feito em segredo, o recompensará. 5. \"E quando vocês orarem, não sejam como os hipócritas. Eles gostam de orar em pé nas sinagogas e nas esquinas, a fim de serem vistos pelos outros. Eu garanto que eles já receberam sua plena recompensa. 6. Mas quando você orar, vá para seu quarto, feche a porta e ore a seu Pai, que está em secreto. Então seu Pai, que vê em secreto, o recompensará. 7. E quando orarem, não fiquem sempre repetindo a mesma coisa, como fazem os pagãos. Eles pensam que por muito falarem serão ouvidos. 8. Não sejam iguais a eles, porque o seu Pai sabe do que vocês precisam, antes mesmo de o pedirem. 9. Vocês, orem assim: \"\\'Pai nosso, que estás nos céus! Santificado seja o teu nome. 10. Venha o teu Reino; seja feita a tua vontade, assim na terra como no céu.', \n",
    "        'description': '1. Quais são as duas práticas religiosas mencionadas nos versículos 1-10?\\n2. O que Jesus diz para não fazer ao dar esmolas, segundo os versículos 2-4?\\n3. Como Jesus instrui a orar em contraste com os hipócritas, conforme os versículos 5-6?\\n4. Qual é o significado de fazer obras de justiça \"em segredo\" conforme os versículos 3-4?\\n5. Por que Jesus critica a repetição de palavras nas orações, conforme o versículo 7?\\n6. O que significa a expressão \"Pai nosso, que estás nos céus\" na oração do Pai Nosso?\\n7. Como você pode aplicar a instrução de dar esmolas em segredo em sua vida diária?\\n8. De que maneira você pode melhorar sua vida de oração para seguir os ensinamentos de Jesus em Mateus 6:5-6?\\n9. Como a oração do Pai Nosso pode ser um modelo para suas orações pessoais?\\n10. Como você pode garantir que suas ações religiosas sejam para a glória de Deus e não para a aprovação dos outros?', \n",
    "        'footer': 'Mateus 6:6: \"Mas quando você orar, vá para seu quarto, feche a porta e ore a seu Pai, que está em secreto. Então seu Pai, que vê em secreto, o recompensará.\"\\nMateus 6:10: \"Venha o teu Reino; seja feita a tua vontade, assim na terra como no céu.\"'}"
   ]
  },
  {
   "cell_type": "code",
   "execution_count": 4,
   "metadata": {},
   "outputs": [
    {
     "name": "stdout",
     "output_type": "stream",
     "text": [
      "PDF criado com sucesso!\n"
     ]
    }
   ],
   "source": [
    "from fpdf import FPDF\n",
    "\n",
    "def impressão_a4(ebi):\n",
    "    # Cria um objeto PDF\n",
    "    pdf = FPDF(format=\"A4\")\n",
    "    pdf.set_creator(creator=\"Teófilo: Assistente de EBI\")\n",
    "\n",
    "    # Adiciona uma página ao PDF\n",
    "    pdf.add_page()\n",
    "\n",
    "    # Define a fonte (Arial, estilo normal, tamanho 12)\n",
    "    pdf.set_font('Arial', 'B', 16)\n",
    "\n",
    "    # Adiciona um título\n",
    "    pdf.cell(0, 10, txt=ebi[\"title\"], ln=True, align='C')\n",
    "    pdf.ln(h = '15')\n",
    "    # Define uma nova fonte para o corpo do texto\n",
    "    pdf.set_font('Helvetica', '', 12)\n",
    "\n",
    "    # Adiciona outro parágrafo\n",
    "    pdf.write(5,ebi[\"plaintext_base\"])\n",
    "\n",
    "    pdf.ln(h = '15')\n",
    "    pdf.ln(h = '15')\n",
    "    pdf.set_font('Helvetica', 'B', 12)\n",
    "    # Adiciona texto ao PDF\n",
    "    pdf.cell(200, 10, txt=\"Perguntas\", ln=True, align='L')\n",
    "\n",
    "    pdf.set_font('Helvetica', '', 12)\n",
    "    pdf.write(8, txt=ebi[\"description\"])\n",
    "\n",
    "    pdf.ln(h = '25')\n",
    "    pdf.ln(h = '25')\n",
    "    pdf.set_font('Helvetica', 'I', 12)\n",
    "    pdf.cell(200, 10, txt=\"Para refletir:\", ln=True, align='L')\n",
    "    pdf.write(8, txt=ebi[\"footer\"])\n",
    "    titulo=ebi[\"title\"]\n",
    "\n",
    "    # Salva o arquivo PDF\n",
    "    pdf.output(\"Estudo bíblico.pdf\")\n",
    "\n",
    "    print(\"PDF criado com sucesso!\")\n",
    "\n",
    "impressão_a4(ebi)"
   ]
  },
  {
   "cell_type": "code",
   "execution_count": 23,
   "metadata": {},
   "outputs": [
    {
     "name": "stdout",
     "output_type": "stream",
     "text": [
      "PDF criado com sucesso!\n"
     ]
    }
   ],
   "source": [
    "def impressão_mobile(ebi):\n",
    "    pdf = FPDF(format=(80,500))\n",
    "    pdf.set_margins(left=5, top=5, right=5)\n",
    "    pdf.set_creator(creator=\"Teófilo: Assistente de EBI\")\n",
    "\n",
    "    # Adiciona uma página ao PDF\n",
    "    pdf.add_page()\n",
    "\n",
    "    # Define a fonte (Arial, estilo normal, tamanho 12)\n",
    "    pdf.set_font('Arial', 'B', 12)\n",
    "\n",
    "    # Adiciona um título\n",
    "    pdf.write(5,ebi[\"title\"]+'\\n')\n",
    "    pdf.ln(h = '15')\n",
    "    #pdf.cell(0, 10, 'Title', 1, 1, align='C')\n",
    "\n",
    "    # Define uma nova fonte para o corpo do texto\n",
    "    pdf.set_font('Helvetica', '', 9)\n",
    "\n",
    "    # Adiciona outro parágrafo\n",
    "    pdf.write(5,ebi[\"plaintext_base\"])\n",
    "\n",
    "    pdf.ln(h = '15')\n",
    "    pdf.set_font('Helvetica', 'B', 10)\n",
    "    # Adiciona texto ao PDF\n",
    "    pdf.cell(200, 10, txt=\"Perguntas\", ln=True, align='L')\n",
    "\n",
    "    pdf.set_font('Helvetica', '', 9)\n",
    "    pdf.write(7, txt=ebi[\"description\"])\n",
    "\n",
    "    pdf.ln(h = '10')\n",
    "    pdf.ln(h = '10')\n",
    "    pdf.set_font('Helvetica', 'I', 9)\n",
    "    pdf.cell(0, 10, txt=\"Para refletir:\", ln=True, align='L')\n",
    "    pdf.set_font('Helvetica', 'I', 9)\n",
    "    pdf.write(5, txt=ebi[\"footer\"])\n",
    "    # Salva o arquivo PDF\n",
    "    pdf.output(\"Estudo bíblico mobile.pdf\")\n",
    "\n",
    "    print(\"PDF criado com sucesso!\")\n",
    "\n",
    "impressão_mobile(ebi)"
   ]
  },
  {
   "cell_type": "code",
   "execution_count": null,
   "metadata": {},
   "outputs": [],
   "source": []
  }
 ],
 "metadata": {
  "kernelspec": {
   "display_name": "myenv",
   "language": "python",
   "name": "python3"
  },
  "language_info": {
   "codemirror_mode": {
    "name": "ipython",
    "version": 3
   },
   "file_extension": ".py",
   "mimetype": "text/x-python",
   "name": "python",
   "nbconvert_exporter": "python",
   "pygments_lexer": "ipython3",
   "version": "3.11.3"
  }
 },
 "nbformat": 4,
 "nbformat_minor": 2
}
